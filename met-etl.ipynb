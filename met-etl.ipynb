{
 "cells": [
  {
   "cell_type": "code",
   "execution_count": 1,
   "metadata": {},
   "outputs": [],
   "source": [
    "%matplotlib inline\n",
    "\n",
    "%load_ext autoreload\n",
    "%autoreload 2\n",
    "\n",
    "import numpy as np\n",
    "import pandas as pd\n",
    "import xarray as xr\n",
    "\n",
    "from dask.distributed import Client\n",
    "\n",
    "from sklearn.compose import ColumnTransformer\n",
    "from sklearn.preprocessing import StandardScaler, FunctionTransformer, MinMaxScaler\n",
    "from sklearn.model_selection import train_test_split\n",
    "\n",
    "from joblib import dump\n",
    "\n",
    "from fluxnet_etl import load_fluxnet, make_lookback"
   ]
  },
  {
   "cell_type": "code",
   "execution_count": 5,
   "metadata": {},
   "outputs": [
    {
     "data": {
      "text/html": [
       "<table style=\"border: 2px solid white;\">\n",
       "<tr>\n",
       "<td style=\"vertical-align: top; border: 0px solid white\">\n",
       "<h3 style=\"text-align: left;\">Client</h3>\n",
       "<ul style=\"text-align: left; list-style: none; margin: 0; padding: 0;\">\n",
       "  <li><b>Scheduler: </b>tcp://127.0.0.1:34653</li>\n",
       "  <li><b>Dashboard: </b><a href='proxy/8787/status' target='_blank'>proxy/8787/status</a>\n",
       "</ul>\n",
       "</td>\n",
       "<td style=\"vertical-align: top; border: 0px solid white\">\n",
       "<h3 style=\"text-align: left;\">Cluster</h3>\n",
       "<ul style=\"text-align: left; list-style:none; margin: 0; padding: 0;\">\n",
       "  <li><b>Workers: </b>12</li>\n",
       "  <li><b>Cores: </b>12</li>\n",
       "  <li><b>Memory: </b>42.95 GB</li>\n",
       "</ul>\n",
       "</td>\n",
       "</tr>\n",
       "</table>"
      ],
      "text/plain": [
       "<Client: 'tcp://127.0.0.1:34653' processes=12 threads=12, memory=42.95 GB>"
      ]
     },
     "execution_count": 5,
     "metadata": {},
     "output_type": "execute_result"
    }
   ],
   "source": [
    "client = Client(n_workers=12)\n",
    "client"
   ]
  },
  {
   "cell_type": "code",
   "execution_count": 6,
   "metadata": {},
   "outputs": [],
   "source": [
    "x_data_computed, y_data_computed, meta = load_fluxnet(compute=True)"
   ]
  },
  {
   "cell_type": "code",
   "execution_count": 8,
   "metadata": {},
   "outputs": [],
   "source": [
    "def fit_x_transformers(dfs):\n",
    "    df = pd.concat(dfs).reset_index(drop=True)\n",
    "    ct = ColumnTransformer(\n",
    "        transformers=[\n",
    "            (\"P\", FunctionTransformer(np.cbrt, validate=False), ['P']),\n",
    "            (\"t_min\", StandardScaler(), ['t_min']),\n",
    "            (\"t_max\", StandardScaler(), ['t_max']),\n",
    "            (\"t\", 'passthrough', ['t']),\n",
    "            (\"lat\", 'passthrough', ['lat']),\n",
    "            (\"elev\", StandardScaler(), ['elev'])\n",
    "        ],\n",
    "    )\n",
    "    ct.fit(df)\n",
    "    return ct\n",
    "\n",
    "\n",
    "def fit_y_transformers(dfs):\n",
    "    df = pd.concat(dfs).reset_index(drop=True)\n",
    "    trans = MinMaxScaler()\n",
    "    trans.fit(df)\n",
    "    return trans"
   ]
  },
  {
   "cell_type": "code",
   "execution_count": 11,
   "metadata": {},
   "outputs": [],
   "source": []
  },
  {
   "cell_type": "code",
   "execution_count": 15,
   "metadata": {},
   "outputs": [
    {
     "name": "stdout",
     "output_type": "stream",
     "text": [
      "x_train (464187, 90, 6)\n",
      "x_val (55000, 90, 6)\n",
      "y_train (464187, 1)\n",
      "y_val (55000, 1)\n"
     ]
    }
   ],
   "source": [
    "def split(x_dfs, y_dfs, test_size=365):\n",
    "\n",
    "    x_train = []\n",
    "    x_val = []\n",
    "    y_train = []\n",
    "    y_val = []\n",
    "\n",
    "    for x, y in zip(x_dfs, y_dfs):\n",
    "        xt, xv, yt, yv = train_test_split(x, y,\n",
    "                                          test_size=test_size,\n",
    "                                          shuffle=False)\n",
    "        x_train.append(xt)\n",
    "        y_train.append(yt)\n",
    "        x_val.append(xv)\n",
    "        y_val.append(yv)\n",
    "    \n",
    "    return x_train, x_val, y_train, y_val\n",
    "\n",
    "\n",
    "x_train, x_val, y_train, y_val = split(x_data_computed, y_data_computed)\n",
    "\n",
    "# save x data\n",
    "lookback = 90\n",
    "x_trans = fit_x_transformers(x_data_computed)\n",
    "dump(x_trans, './etl_data/x_trans.joblib')\n",
    "for name, df_list in zip(['x_train', 'x_val'], [x_train, x_val]):\n",
    "    features = df_list[0].columns\n",
    "    da = xr.concat([make_lookback(x_trans.transform(df), features, lookback=lookback)\n",
    "                    for df in df_list],\n",
    "                   dim='samples')\n",
    "    da.name = name\n",
    "    print(name, da.shape)\n",
    "    da.to_netcdf(f'./etl_data/{name}.nc')\n",
    "    \n",
    "\n",
    "# save y data\n",
    "y_trans = fit_y_transformers(y_data_computed)\n",
    "dump(y_trans, './etl_data/y_trans.joblib')\n",
    "for name, df_list in zip(['y_train', 'y_val'], [y_train, y_val]):\n",
    "    da = xr.concat([xr.DataArray(y_trans.transform(df[lookback:]),\n",
    "                                 dims=('sample', 'feature'))\n",
    "                    for df in df_list], dim='sample')\n",
    "    da.name = name\n",
    "    print(name, da.shape)   \n",
    "    da.to_netcdf(f'./etl_data/{name}.nc')"
   ]
  },
  {
   "cell_type": "code",
   "execution_count": null,
   "metadata": {},
   "outputs": [],
   "source": []
  }
 ],
 "metadata": {
  "kernelspec": {
   "display_name": "Python [conda env:projects-met-ml]",
   "language": "python",
   "name": "conda-env-projects-met-ml-py"
  },
  "language_info": {
   "codemirror_mode": {
    "name": "ipython",
    "version": 3
   },
   "file_extension": ".py",
   "mimetype": "text/x-python",
   "name": "python",
   "nbconvert_exporter": "python",
   "pygments_lexer": "ipython3",
   "version": "3.7.3"
  }
 },
 "nbformat": 4,
 "nbformat_minor": 4
}
